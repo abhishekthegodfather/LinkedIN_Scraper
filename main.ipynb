{
 "cells": [
  {
   "cell_type": "code",
   "execution_count": 9,
   "id": "ea3a87c4",
   "metadata": {},
   "outputs": [],
   "source": [
    "from selenium import webdriver\n",
    "from selenium.webdriver.common.by import By\n",
    "from urllib.parse import urlparse\n",
    "import pandas as pd"
   ]
  },
  {
   "cell_type": "code",
   "execution_count": 10,
   "id": "ef5cb37e",
   "metadata": {},
   "outputs": [
    {
     "name": "stderr",
     "output_type": "stream",
     "text": [
      "C:\\Users\\abhis\\AppData\\Local\\Temp/ipykernel_8144/3085550406.py:1: DeprecationWarning: executable_path has been deprecated, please pass in a Service object\n",
      "  driver = webdriver.Firefox(executable_path=r'C:\\Users\\abhis\\OneDrive\\Desktop\\scrapping_python\\linkedin_scarp\\geckodriver.exe')\n"
     ]
    }
   ],
   "source": [
    "driver = webdriver.Firefox(executable_path=r'C:\\Users\\abhis\\OneDrive\\Desktop\\scrapping_python\\linkedin_scarp\\geckodriver.exe')\n",
    "driver.get(\"https://www.linkedin.com\")"
   ]
  },
  {
   "cell_type": "code",
   "execution_count": 11,
   "id": "8970b3ef",
   "metadata": {},
   "outputs": [],
   "source": [
    "user_box = driver.find_element(By.NAME,\"session_key\")\n",
    "user_box.send_keys(\"abhishekbiswas772@gmail.com\")"
   ]
  },
  {
   "cell_type": "code",
   "execution_count": 12,
   "id": "21634172",
   "metadata": {},
   "outputs": [],
   "source": [
    "user_pass = driver.find_element(By.NAME, \"session_password\")\n",
    "user_pass.send_keys(\"194dcf8606305e7ac14cded073506f2b682d353ff893584a8dc23aacd94c10c6\")"
   ]
  },
  {
   "cell_type": "code",
   "execution_count": 13,
   "id": "f209b88e",
   "metadata": {},
   "outputs": [
    {
     "name": "stdout",
     "output_type": "stream",
     "text": [
      "Done\n"
     ]
    }
   ],
   "source": [
    "login_pass = driver.find_element(By.CLASS_NAME, \"sign-in-form__submit-button\")\n",
    "login_pass.click()\n",
    "\n",
    "print(\"Done\")"
   ]
  },
  {
   "cell_type": "code",
   "execution_count": 14,
   "id": "f7363fbe",
   "metadata": {},
   "outputs": [
    {
     "name": "stdout",
     "output_type": "stream",
     "text": [
      "['https://www.linkedin.com/feed/?doFeedRefresh=true&nis=true', 'https://www.linkedin.com/feed/?doFeedRefresh=true&nis=true&', 'https://www.linkedin.com/mynetwork/?', 'https://www.linkedin.com/jobs/?', 'https://www.linkedin.com/messaging/?', 'https://www.linkedin.com/notifications/?', 'https://www.linkedin.com/premium/products/?family=JSS&upsellOrderOrigin=premium_nav_upsell_text&intentType=SEEK_JOB&utype=job&destRedirectURL=https%3A%2F%2Fwww.linkedin.com%2Ffeed%2F%3Ftrk%3Dhomepage-basic_signin-form_submit%26showPremiumWelcomeBanner%3Dtrue', 'https://www.linkedin.com/in/abhishekbiswas772/', 'https://www.linkedin.com/in/abhishekbiswas772/', 'https://www.linkedin.com/feed/?createEvent=true&trk=homepage-basic_signin-form_submit', 'https://www.linkedin.com/post/new/', 'https://www.linkedin.com/in/abhinav-tamrakar-50a74b128?miniProfileUrn=urn%3Ali%3Afs_miniProfile%3AACoAAB9vJRoBKfhm4jUaW5VSE1xQvS3094uTqmE', 'https://www.linkedin.com/in/ACoAAB9vJRoBKfhm4jUaW5VSE1xQvS3094uTqmE/', 'https://www.linkedin.com/in/amrita-kumari-237a03148?miniProfileUrn=urn%3Ali%3Afs_miniProfile%3AACoAACO-jYsB6s62adr7qKZpkbJGuJTUh3K-fEg', 'https://www.linkedin.com/company/glaxosmithkline/', 'https://www.linkedin.com/in/ACoAAA6Y-qoBzpLiWOyXiJ4nupJp3tUvBADyNyQ', 'https://www.linkedin.com/in/ACoAACFX9GEBLRbXVFnxKtYBRtes_uxV5tjAoYA', 'https://www.linkedin.com/company/national-institute-of-industrial-engineering/', 'https://www.linkedin.com/feed/hashtag/?keywords=newbeginning&highlightedUpdateUrns=urn%3Ali%3Aactivity%3A6954440441656152064', 'https://www.linkedin.com/feed/hashtag/?keywords=gsk&highlightedUpdateUrns=urn%3Ali%3Aactivity%3A6954440441656152064', 'https://www.linkedin.com/feed/hashtag/?keywords=aheadtogether&highlightedUpdateUrns=urn%3Ali%3Aactivity%3A6954440441656152064', 'https://www.linkedin.com/feed/hashtag/?keywords=nitie&highlightedUpdateUrns=urn%3Ali%3Aactivity%3A6954440441656152064', 'https://www.linkedin.com/feed/hashtag/?keywords=mba&highlightedUpdateUrns=urn%3Ali%3Aactivity%3A6954440441656152064', 'https://www.linkedin.com/feed/hashtag/?keywords=corporatelife&highlightedUpdateUrns=urn%3Ali%3Aactivity%3A6954440441656152064', 'https://www.linkedin.com/in/abhinav-tamrakar-50a74b128/', 'https://www.linkedin.com/in/abhinav-tamrakar-50a74b128/', 'https://www.linkedin.com/in/ACoAACO-jYsB6s62adr7qKZpkbJGuJTUh3K-fEg', 'https://www.linkedin.com/in/amrita-kumari-237a03148/', 'https://www.linkedin.com/in/amrita-kumari-237a03148/', 'https://www.linkedin.com/in/ACoAAB9vJRoBKfhm4jUaW5VSE1xQvS3094uTqmE', 'https://www.linkedin.com/help/linkedin/answer/72665', 'https://www.linkedin.com/news/story/talent-moves-to-tier-2-cities-4836169/', 'https://www.linkedin.com/news/story/the-gender-gap-in-leadership-4829825/', 'https://www.linkedin.com/news/story/is-hiring-in-it-slowing-down-5367468/', 'https://www.linkedin.com/news/story/google-to-pull-back-on-hiring-5371788/', 'https://www.linkedin.com/news/story/choosing-work-from-home-for-good-4834729/', 'https://www.linkedin.com/news/story/india-to-be-fastest-growing-ad-market-4845705/', 'https://www.linkedin.com/news/story/twitter-sues-musk-for-yanking-deal-5906442/', 'https://www.linkedin.com/news/story/bosch-to-invest-200-crore-in-india-5373884/', 'https://www.linkedin.com/news/story/%E0%A4%AB%E0%A5%8D%E0%A4%B0%E0%A5%80%E0%A4%B2%E0%A4%BE%E0%A4%82%E0%A4%B8%E0%A4%BF%E0%A4%82%E0%A4%97-%E0%A4%95%E0%A5%87-%E0%A4%AB%E0%A4%BC%E0%A4%BE%E0%A4%AF%E0%A4%A6%E0%A5%87-%E0%A4%94%E0%A4%B0-%E0%A4%A8%E0%A5%81%E0%A4%95%E0%A4%B8%E0%A4%BE%E0%A4%A8-5368348/', 'https://www.linkedin.com/news/story/pre-packaged-food-items-to-get-costlier-5373236/', 'https://about.linkedin.com/', 'https://www.linkedin.com/accessibility', 'https://www.linkedin.com//help/linkedin?trk=footer_d_flagship3_feed', 'https://www.linkedin.com/static?key=privacy_policy', 'https://www.linkedin.com/static?key=user_agreement', 'https://www.linkedin.com/legal/cookie-policy', 'https://www.linkedin.com/static?key=copyright_policy', 'https://www.linkedin.com/help/linkedin/answer/62931', 'https://www.linkedin.com/ad/start?trk=n_nav_ads_rr', 'https://business.linkedin.com/en-in/talent-solutions?trk=flagship_nav&veh=li-header-dropdown-lts-control-en-in&src=li-nav', 'https://business.linkedin.com/sales-solutions?trk=flagship_nav&veh=li-header-dropdown-lss-control&src=li-nav', 'https://www.linkedin.com/mjobs/jobPosting/learnMore?trk=nav_biz_serv_job_post_nept', 'https://business.linkedin.com/marketing-solutions/ads?trk=n_nav_ads_rr_b&src=li-nav', 'https://learning.linkedin.com/?trk=d_flagship3_nav&veh=learning_solutions&src=li-nav', 'https://www.linkedin.com/company/setup/new/']\n"
     ]
    }
   ],
   "source": [
    "link_arr = []\n",
    "anch = driver.find_elements(By.TAG_NAME, \"a\")\n",
    "for i in anch:\n",
    "    link_arr.append(i.get_attribute('href'))\n",
    "print(link_arr)"
   ]
  },
  {
   "cell_type": "code",
   "execution_count": 15,
   "id": "153dd56b",
   "metadata": {},
   "outputs": [
    {
     "name": "stdout",
     "output_type": "stream",
     "text": [
      "https://www.linkedin.com//jobs/\n"
     ]
    }
   ],
   "source": [
    "job_main_link = \"\"\n",
    "for i in link_arr:\n",
    "    urlP = urlparse(i)\n",
    "#     print(urlP)\n",
    "    if urlP.path == '/jobs/':\n",
    "        job_main_link += 'https://www.linkedin.com/' + str(urlP.path)\n",
    "print(job_main_link)"
   ]
  },
  {
   "cell_type": "code",
   "execution_count": 16,
   "id": "802976f9",
   "metadata": {},
   "outputs": [],
   "source": [
    "driver.get(job_main_link)"
   ]
  },
  {
   "cell_type": "code",
   "execution_count": 17,
   "id": "61cca4df",
   "metadata": {},
   "outputs": [
    {
     "ename": "StaleElementReferenceException",
     "evalue": "Message: The element reference of <a id=\"ember55\" class=\"ember-view job-card-container__link job-card-list__title\" href=\"/jobs/collections/recommended/?currentJobId=3163795272&eBP=JYMBII_JOBS_HOME_ORGANIC&refId=Lw%2BV0%2BHzfGduAuxDSn9DiA%3D%3D&trackingId=XfFwdRfnFbWJM%2F2mrRVDNw%3D%3D\"> is stale; either the element is no longer attached to the DOM, it is not in the current frame context, or the document has been refreshed\nStacktrace:\nWebDriverError@chrome://remote/content/shared/webdriver/Errors.jsm:186:5\nStaleElementReferenceError@chrome://remote/content/shared/webdriver/Errors.jsm:467:5\nelement.resolveElement@chrome://remote/content/marionette/element.js:681:11\nevaluate.fromJSON@chrome://remote/content/marionette/evaluate.js:254:26\nevaluate.fromJSON/<@chrome://remote/content/marionette/evaluate.js:245:38\nevaluate.fromJSON@chrome://remote/content/marionette/evaluate.js:245:20\nevaluate.fromJSON@chrome://remote/content/marionette/evaluate.js:262:29\nreceiveMessage@chrome://remote/content/marionette/actors/MarionetteCommandsChild.jsm:79:29\n",
     "output_type": "error",
     "traceback": [
      "\u001b[1;31m---------------------------------------------------------------------------\u001b[0m",
      "\u001b[1;31mStaleElementReferenceException\u001b[0m            Traceback (most recent call last)",
      "\u001b[1;32m~\\AppData\\Local\\Temp/ipykernel_8144/1952855460.py\u001b[0m in \u001b[0;36m<module>\u001b[1;34m\u001b[0m\n\u001b[0;32m      2\u001b[0m \u001b[0mjob_names\u001b[0m \u001b[1;33m=\u001b[0m \u001b[1;33m[\u001b[0m\u001b[1;33m]\u001b[0m\u001b[1;33m\u001b[0m\u001b[1;33m\u001b[0m\u001b[0m\n\u001b[0;32m      3\u001b[0m \u001b[1;32mfor\u001b[0m \u001b[0mi\u001b[0m \u001b[1;32min\u001b[0m \u001b[0mnames_jobs\u001b[0m\u001b[1;33m:\u001b[0m\u001b[1;33m\u001b[0m\u001b[1;33m\u001b[0m\u001b[0m\n\u001b[1;32m----> 4\u001b[1;33m     \u001b[0mi\u001b[0m \u001b[1;33m=\u001b[0m \u001b[0mi\u001b[0m\u001b[1;33m.\u001b[0m\u001b[0mget_attribute\u001b[0m\u001b[1;33m(\u001b[0m\u001b[1;34m\"text\"\u001b[0m\u001b[1;33m)\u001b[0m\u001b[1;33m.\u001b[0m\u001b[0mstrip\u001b[0m\u001b[1;33m(\u001b[0m\u001b[1;33m)\u001b[0m\u001b[1;33m\u001b[0m\u001b[1;33m\u001b[0m\u001b[0m\n\u001b[0m\u001b[0;32m      5\u001b[0m     \u001b[0mjob_names\u001b[0m\u001b[1;33m.\u001b[0m\u001b[0mappend\u001b[0m\u001b[1;33m(\u001b[0m\u001b[0mi\u001b[0m\u001b[1;33m)\u001b[0m\u001b[1;33m\u001b[0m\u001b[1;33m\u001b[0m\u001b[0m\n\u001b[0;32m      6\u001b[0m \u001b[1;33m\u001b[0m\u001b[0m\n",
      "\u001b[1;32mD:\\anaconda\\lib\\site-packages\\selenium\\webdriver\\remote\\webelement.py\u001b[0m in \u001b[0;36mget_attribute\u001b[1;34m(self, name)\u001b[0m\n\u001b[0;32m    171\u001b[0m         \u001b[1;32mif\u001b[0m \u001b[0mgetAttribute_js\u001b[0m \u001b[1;32mis\u001b[0m \u001b[1;32mNone\u001b[0m\u001b[1;33m:\u001b[0m\u001b[1;33m\u001b[0m\u001b[1;33m\u001b[0m\u001b[0m\n\u001b[0;32m    172\u001b[0m             \u001b[0m_load_js\u001b[0m\u001b[1;33m(\u001b[0m\u001b[1;33m)\u001b[0m\u001b[1;33m\u001b[0m\u001b[1;33m\u001b[0m\u001b[0m\n\u001b[1;32m--> 173\u001b[1;33m         attribute_value = self.parent.execute_script(\n\u001b[0m\u001b[0;32m    174\u001b[0m             \u001b[1;34m\"return (%s).apply(null, arguments);\"\u001b[0m \u001b[1;33m%\u001b[0m \u001b[0mgetAttribute_js\u001b[0m\u001b[1;33m,\u001b[0m\u001b[1;33m\u001b[0m\u001b[1;33m\u001b[0m\u001b[0m\n\u001b[0;32m    175\u001b[0m             self, name)\n",
      "\u001b[1;32mD:\\anaconda\\lib\\site-packages\\selenium\\webdriver\\remote\\webdriver.py\u001b[0m in \u001b[0;36mexecute_script\u001b[1;34m(self, script, *args)\u001b[0m\n\u001b[0;32m    882\u001b[0m         \u001b[0mcommand\u001b[0m \u001b[1;33m=\u001b[0m \u001b[0mCommand\u001b[0m\u001b[1;33m.\u001b[0m\u001b[0mW3C_EXECUTE_SCRIPT\u001b[0m\u001b[1;33m\u001b[0m\u001b[1;33m\u001b[0m\u001b[0m\n\u001b[0;32m    883\u001b[0m \u001b[1;33m\u001b[0m\u001b[0m\n\u001b[1;32m--> 884\u001b[1;33m         return self.execute(command, {\n\u001b[0m\u001b[0;32m    885\u001b[0m             \u001b[1;34m'script'\u001b[0m\u001b[1;33m:\u001b[0m \u001b[0mscript\u001b[0m\u001b[1;33m,\u001b[0m\u001b[1;33m\u001b[0m\u001b[1;33m\u001b[0m\u001b[0m\n\u001b[0;32m    886\u001b[0m             'args': converted_args})['value']\n",
      "\u001b[1;32mD:\\anaconda\\lib\\site-packages\\selenium\\webdriver\\remote\\webdriver.py\u001b[0m in \u001b[0;36mexecute\u001b[1;34m(self, driver_command, params)\u001b[0m\n\u001b[0;32m    428\u001b[0m         \u001b[0mresponse\u001b[0m \u001b[1;33m=\u001b[0m \u001b[0mself\u001b[0m\u001b[1;33m.\u001b[0m\u001b[0mcommand_executor\u001b[0m\u001b[1;33m.\u001b[0m\u001b[0mexecute\u001b[0m\u001b[1;33m(\u001b[0m\u001b[0mdriver_command\u001b[0m\u001b[1;33m,\u001b[0m \u001b[0mparams\u001b[0m\u001b[1;33m)\u001b[0m\u001b[1;33m\u001b[0m\u001b[1;33m\u001b[0m\u001b[0m\n\u001b[0;32m    429\u001b[0m         \u001b[1;32mif\u001b[0m \u001b[0mresponse\u001b[0m\u001b[1;33m:\u001b[0m\u001b[1;33m\u001b[0m\u001b[1;33m\u001b[0m\u001b[0m\n\u001b[1;32m--> 430\u001b[1;33m             \u001b[0mself\u001b[0m\u001b[1;33m.\u001b[0m\u001b[0merror_handler\u001b[0m\u001b[1;33m.\u001b[0m\u001b[0mcheck_response\u001b[0m\u001b[1;33m(\u001b[0m\u001b[0mresponse\u001b[0m\u001b[1;33m)\u001b[0m\u001b[1;33m\u001b[0m\u001b[1;33m\u001b[0m\u001b[0m\n\u001b[0m\u001b[0;32m    431\u001b[0m             response['value'] = self._unwrap_value(\n\u001b[0;32m    432\u001b[0m                 response.get('value', None))\n",
      "\u001b[1;32mD:\\anaconda\\lib\\site-packages\\selenium\\webdriver\\remote\\errorhandler.py\u001b[0m in \u001b[0;36mcheck_response\u001b[1;34m(self, response)\u001b[0m\n\u001b[0;32m    245\u001b[0m                 \u001b[0malert_text\u001b[0m \u001b[1;33m=\u001b[0m \u001b[0mvalue\u001b[0m\u001b[1;33m[\u001b[0m\u001b[1;34m'alert'\u001b[0m\u001b[1;33m]\u001b[0m\u001b[1;33m.\u001b[0m\u001b[0mget\u001b[0m\u001b[1;33m(\u001b[0m\u001b[1;34m'text'\u001b[0m\u001b[1;33m)\u001b[0m\u001b[1;33m\u001b[0m\u001b[1;33m\u001b[0m\u001b[0m\n\u001b[0;32m    246\u001b[0m             \u001b[1;32mraise\u001b[0m \u001b[0mexception_class\u001b[0m\u001b[1;33m(\u001b[0m\u001b[0mmessage\u001b[0m\u001b[1;33m,\u001b[0m \u001b[0mscreen\u001b[0m\u001b[1;33m,\u001b[0m \u001b[0mstacktrace\u001b[0m\u001b[1;33m,\u001b[0m \u001b[0malert_text\u001b[0m\u001b[1;33m)\u001b[0m  \u001b[1;31m# type: ignore[call-arg]  # mypy is not smart enough here\u001b[0m\u001b[1;33m\u001b[0m\u001b[1;33m\u001b[0m\u001b[0m\n\u001b[1;32m--> 247\u001b[1;33m         \u001b[1;32mraise\u001b[0m \u001b[0mexception_class\u001b[0m\u001b[1;33m(\u001b[0m\u001b[0mmessage\u001b[0m\u001b[1;33m,\u001b[0m \u001b[0mscreen\u001b[0m\u001b[1;33m,\u001b[0m \u001b[0mstacktrace\u001b[0m\u001b[1;33m)\u001b[0m\u001b[1;33m\u001b[0m\u001b[1;33m\u001b[0m\u001b[0m\n\u001b[0m\u001b[0;32m    248\u001b[0m \u001b[1;33m\u001b[0m\u001b[0m\n\u001b[0;32m    249\u001b[0m     \u001b[1;32mdef\u001b[0m \u001b[0m_value_or_default\u001b[0m\u001b[1;33m(\u001b[0m\u001b[0mself\u001b[0m\u001b[1;33m,\u001b[0m \u001b[0mobj\u001b[0m\u001b[1;33m:\u001b[0m \u001b[0mMapping\u001b[0m\u001b[1;33m[\u001b[0m\u001b[0m_KT\u001b[0m\u001b[1;33m,\u001b[0m \u001b[0m_VT\u001b[0m\u001b[1;33m]\u001b[0m\u001b[1;33m,\u001b[0m \u001b[0mkey\u001b[0m\u001b[1;33m:\u001b[0m \u001b[0m_KT\u001b[0m\u001b[1;33m,\u001b[0m \u001b[0mdefault\u001b[0m\u001b[1;33m:\u001b[0m \u001b[0m_VT\u001b[0m\u001b[1;33m)\u001b[0m \u001b[1;33m->\u001b[0m \u001b[0m_VT\u001b[0m\u001b[1;33m:\u001b[0m\u001b[1;33m\u001b[0m\u001b[1;33m\u001b[0m\u001b[0m\n",
      "\u001b[1;31mStaleElementReferenceException\u001b[0m: Message: The element reference of <a id=\"ember55\" class=\"ember-view job-card-container__link job-card-list__title\" href=\"/jobs/collections/recommended/?currentJobId=3163795272&eBP=JYMBII_JOBS_HOME_ORGANIC&refId=Lw%2BV0%2BHzfGduAuxDSn9DiA%3D%3D&trackingId=XfFwdRfnFbWJM%2F2mrRVDNw%3D%3D\"> is stale; either the element is no longer attached to the DOM, it is not in the current frame context, or the document has been refreshed\nStacktrace:\nWebDriverError@chrome://remote/content/shared/webdriver/Errors.jsm:186:5\nStaleElementReferenceError@chrome://remote/content/shared/webdriver/Errors.jsm:467:5\nelement.resolveElement@chrome://remote/content/marionette/element.js:681:11\nevaluate.fromJSON@chrome://remote/content/marionette/evaluate.js:254:26\nevaluate.fromJSON/<@chrome://remote/content/marionette/evaluate.js:245:38\nevaluate.fromJSON@chrome://remote/content/marionette/evaluate.js:245:20\nevaluate.fromJSON@chrome://remote/content/marionette/evaluate.js:262:29\nreceiveMessage@chrome://remote/content/marionette/actors/MarionetteCommandsChild.jsm:79:29\n"
     ]
    }
   ],
   "source": [
    "names_jobs = driver.find_elements(By.CSS_SELECTOR, '.ember-view.job-card-container__link.job-card-list__title')\n",
    "job_names = []\n",
    "for i in names_jobs:\n",
    "    i = i.get_attribute(\"text\").strip()\n",
    "    job_names.append(i)\n",
    "    \n",
    "print(len(job_names))"
   ]
  },
  {
   "cell_type": "code",
   "execution_count": null,
   "id": "3c4c8095",
   "metadata": {},
   "outputs": [],
   "source": [
    "role_jobs = driver.find_elements(By.XPATH, \"//span[@class='job-card-container__primary-description']/a[@class='app-aware-link']\")\n",
    "role_names = []\n",
    "for i in role_jobs:\n",
    "    i = i.get_attribute(\"text\")\n",
    "    role_names.append(i)\n",
    "    \n",
    "print(len(role_names))"
   ]
  },
  {
   "cell_type": "code",
   "execution_count": null,
   "id": "dd758b2b",
   "metadata": {},
   "outputs": [],
   "source": [
    "place_jobs = driver.find_elements(By.CSS_SELECTOR, 'li.job-card-container__metadata-item')\n",
    "place_names = []\n",
    "for i in place_jobs:\n",
    "    i = i.get_attribute(\"innerHTML\")\n",
    "    i = i.strip()\n",
    "    i = i.split(\"<!---->\")\n",
    "    place_names.append(i)\n",
    "    \n",
    "place = []\n",
    "res_place = []\n",
    "for i in range(0, len(place_names)):\n",
    "    for j in range(0, len(place_names[i])):\n",
    "        place.append(place_names[i][j])\n",
    "        \n",
    "for ele in place:\n",
    "    if ele.strip():\n",
    "        res_place.append(ele) \n",
    "        \n",
    "print(len(res_place))"
   ]
  },
  {
   "cell_type": "code",
   "execution_count": null,
   "id": "bbb9ccea",
   "metadata": {},
   "outputs": [],
   "source": [
    "time_drive = driver.find_elements(By.CLASS_NAME, 'job-card-container__footer-item')\n",
    "time_arr = []\n",
    "for i in time_drive:\n",
    "    i = i.get_attribute(\"innerHTML\").strip().split(\"\\n\")\n",
    "    time_arr.append(i)\n",
    "# print(len(time_arr))\n",
    "ftime = []\n",
    "for i in range(0, len(time_arr)):\n",
    "    if len(time_arr[i]) == 3:\n",
    "        ftime.append(time_arr[i])\n",
    "\n",
    "months_time = []\n",
    "for i in range(0, len(ftime)):\n",
    "    j = ftime[i][1].strip()\n",
    "#     print(j)\n",
    "    months_time.append(j)\n",
    "    \n",
    "print(len(months_time))"
   ]
  },
  {
   "cell_type": "code",
   "execution_count": null,
   "id": "efc2c6f9",
   "metadata": {},
   "outputs": [],
   "source": [
    "col = [\"Company Name\", \"Job Position\", \"Location\", \"Job Posting Date\"]\n",
    "data = pd.DataFrame({\"Company Name\": role_names, \"Job Position\": job_names, \"Location\": res_place, \"Job Posting Date\": pd.Series(months_time)})"
   ]
  },
  {
   "cell_type": "code",
   "execution_count": null,
   "id": "716dd227",
   "metadata": {},
   "outputs": [],
   "source": [
    "data"
   ]
  },
  {
   "cell_type": "code",
   "execution_count": null,
   "id": "58866bb6",
   "metadata": {},
   "outputs": [],
   "source": [
    "data.to_csv(\"linkedIn_Scraped_Jobs.csv\")"
   ]
  },
  {
   "cell_type": "code",
   "execution_count": null,
   "id": "a66f1f3a",
   "metadata": {},
   "outputs": [],
   "source": []
  }
 ],
 "metadata": {
  "kernelspec": {
   "display_name": "Python 3.10.4 64-bit",
   "language": "python",
   "name": "python3"
  },
  "language_info": {
   "codemirror_mode": {
    "name": "ipython",
    "version": 3
   },
   "file_extension": ".py",
   "mimetype": "text/x-python",
   "name": "python",
   "nbconvert_exporter": "python",
   "pygments_lexer": "ipython3",
   "version": "3.10.4"
  },
  "vscode": {
   "interpreter": {
    "hash": "3ffbf0abc1ab77b078092e586942f471caceca6a6a6c676a4d26e0d52144ddd1"
   }
  }
 },
 "nbformat": 4,
 "nbformat_minor": 5
}
